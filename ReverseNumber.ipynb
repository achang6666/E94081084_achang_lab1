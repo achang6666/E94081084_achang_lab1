{
 "cells": [
  {
   "cell_type": "code",
   "execution_count": null,
   "id": "4b900980",
   "metadata": {},
   "outputs": [],
   "source": [
    "def reverse(num):\n",
    "    lstzro=0 #最後0位數\n",
    "    nnum=0 #新數字\n",
    "    ori=num\n",
    "    while num>0:\n",
    "        nnum=(num%10)+nnum*10 #向左位移\n",
    "        num=num//10 #向右位移\n",
    "    while(ori%10==0):\n",
    "        lstzro=lstzro+1\n",
    "        ori=ori//10\n",
    "    onnum=str(nnum)\n",
    "    for i in range(lstzro):\n",
    "        onnum='0'+onnum #加0\n",
    "    print(onnum)\n",
    "num=int(input('Enter an integer:'))\n",
    "reverse(num) #函數迴圈"
   ]
  }
 ],
 "metadata": {
  "kernelspec": {
   "display_name": "Python 3",
   "language": "python",
   "name": "python3"
  },
  "language_info": {
   "codemirror_mode": {
    "name": "ipython",
    "version": 3
   },
   "file_extension": ".py",
   "mimetype": "text/x-python",
   "name": "python",
   "nbconvert_exporter": "python",
   "pygments_lexer": "ipython3",
   "version": "3.8.10"
  }
 },
 "nbformat": 4,
 "nbformat_minor": 5
}
